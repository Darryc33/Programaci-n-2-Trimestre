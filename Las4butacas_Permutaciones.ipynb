{
  "nbformat": 4,
  "nbformat_minor": 0,
  "metadata": {
    "colab": {
      "provenance": []
    },
    "kernelspec": {
      "name": "python3",
      "display_name": "Python 3"
    },
    "language_info": {
      "name": "python"
    }
  },
  "cells": [
    {
      "cell_type": "code",
      "execution_count": null,
      "metadata": {
        "colab": {
          "base_uri": "https://localhost:8080/"
        },
        "id": "24tABXg4BTpH",
        "outputId": "9cd9fbbc-9bed-484b-f3e6-d55eb34d1392"
      },
      "outputs": [
        {
          "output_type": "stream",
          "name": "stdout",
          "text": [
            "1 - J= 2 V= 1 P= 3 S= 4\n",
            "2 - J= 2 V= 1 P= 4 S= 3\n",
            "3 - J= 3 V= 1 P= 2 S= 4\n",
            "4 - J= 3 V= 1 P= 4 S= 2\n",
            "5 - J= 4 V= 1 P= 2 S= 3\n",
            "6 - J= 4 V= 1 P= 3 S= 2\n",
            "7 - J= 1 V= 2 P= 3 S= 4\n",
            "8 - J= 1 V= 2 P= 4 S= 3\n",
            "9 - J= 3 V= 2 P= 1 S= 4\n",
            "10 - J= 3 V= 2 P= 4 S= 1\n",
            "11 - J= 4 V= 2 P= 1 S= 3\n",
            "12 - J= 4 V= 2 P= 3 S= 1\n",
            "13 - J= 1 V= 3 P= 2 S= 4\n",
            "14 - J= 1 V= 3 P= 4 S= 2\n",
            "15 - J= 2 V= 3 P= 1 S= 4\n",
            "16 - J= 2 V= 3 P= 4 S= 1\n",
            "17 - J= 4 V= 3 P= 1 S= 2\n",
            "18 - J= 4 V= 3 P= 2 S= 1\n",
            "19 - J= 1 V= 4 P= 2 S= 3\n",
            "20 - J= 1 V= 4 P= 3 S= 2\n",
            "21 - J= 2 V= 4 P= 1 S= 3\n",
            "22 - J= 2 V= 4 P= 3 S= 1\n",
            "23 - J= 3 V= 4 P= 1 S= 2\n",
            "24 - J= 3 V= 4 P= 2 S= 1\n"
          ]
        }
      ],
      "source": [
        "i = 0\n",
        "for V in range(1,5):\n",
        "    for J in range(1,5):\n",
        "        if J == V:\n",
        "            continue\n",
        "        for P in range(1,5):\n",
        "            if P == V or P == J:\n",
        "                continue\n",
        "            for S in range(1,5):\n",
        "                if S == V or S == J or S == P:\n",
        "                    continue\n",
        "                i += 1\n",
        "                print(i, '- J=', J, 'V=', V, 'P=', P, 'S=', S)"
      ]
    }
  ]
}