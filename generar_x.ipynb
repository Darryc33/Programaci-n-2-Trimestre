{
  "nbformat": 4,
  "nbformat_minor": 0,
  "metadata": {
    "colab": {
      "provenance": []
    },
    "kernelspec": {
      "name": "python3",
      "display_name": "Python 3"
    },
    "language_info": {
      "name": "python"
    }
  },
  "cells": [
    {
      "cell_type": "code",
      "execution_count": null,
      "metadata": {
        "colab": {
          "base_uri": "https://localhost:8080/"
        },
        "id": "Z45ta25c78MC",
        "outputId": "30f09e88-76cf-4d58-e690-652636d8fc6e"
      },
      "outputs": [
        {
          "output_type": "stream",
          "name": "stdout",
          "text": [
            "[ 0.   0.5  1.   1.5  2.   2.5  3.   3.5  4.   4.5  5.   5.5  6.   6.5\n",
            "  7.   7.5  8.   8.5  9.   9.5 10. ]\n"
          ]
        }
      ],
      "source": [
        "import numpy as np #Té una instrucció per generar les 'x'\n",
        "import matplotlib.pyplot as plt\n",
        "x=np.linspace(0,10,21)\n",
        "print(x)"
      ]
    }
  ]
}